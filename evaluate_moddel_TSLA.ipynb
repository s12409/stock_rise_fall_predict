{
 "cells": [
  {
   "cell_type": "code",
   "execution_count": 1,
   "id": "2af83cc0",
   "metadata": {},
   "outputs": [
    {
     "name": "stdout",
     "output_type": "stream",
     "text": [
      "Requirement already satisfied: seaborn in d:\\anaconda3\\envs\\mediapipe\\lib\\site-packages (0.12.2)\n",
      "Requirement already satisfied: matplotlib!=3.6.1,>=3.1 in d:\\anaconda3\\envs\\mediapipe\\lib\\site-packages (from seaborn) (3.7.1)\n",
      "Requirement already satisfied: pandas>=0.25 in d:\\anaconda3\\envs\\mediapipe\\lib\\site-packages (from seaborn) (2.0.2)\n",
      "Requirement already satisfied: numpy!=1.24.0,>=1.17 in d:\\anaconda3\\envs\\mediapipe\\lib\\site-packages (from seaborn) (1.23.5)\n",
      "Requirement already satisfied: kiwisolver>=1.0.1 in d:\\anaconda3\\envs\\mediapipe\\lib\\site-packages (from matplotlib!=3.6.1,>=3.1->seaborn) (1.4.4)\n",
      "Requirement already satisfied: pyparsing>=2.3.1 in d:\\anaconda3\\envs\\mediapipe\\lib\\site-packages (from matplotlib!=3.6.1,>=3.1->seaborn) (3.0.9)\n",
      "Requirement already satisfied: pillow>=6.2.0 in d:\\anaconda3\\envs\\mediapipe\\lib\\site-packages (from matplotlib!=3.6.1,>=3.1->seaborn) (9.5.0)\n",
      "Requirement already satisfied: importlib-resources>=3.2.0 in d:\\anaconda3\\envs\\mediapipe\\lib\\site-packages (from matplotlib!=3.6.1,>=3.1->seaborn) (5.12.0)\n",
      "Requirement already satisfied: packaging>=20.0 in d:\\anaconda3\\envs\\mediapipe\\lib\\site-packages (from matplotlib!=3.6.1,>=3.1->seaborn) (23.0)\n",
      "Requirement already satisfied: contourpy>=1.0.1 in d:\\anaconda3\\envs\\mediapipe\\lib\\site-packages (from matplotlib!=3.6.1,>=3.1->seaborn) (1.0.7)\n",
      "Requirement already satisfied: python-dateutil>=2.7 in d:\\anaconda3\\envs\\mediapipe\\lib\\site-packages (from matplotlib!=3.6.1,>=3.1->seaborn) (2.8.2)\n",
      "Requirement already satisfied: cycler>=0.10 in d:\\anaconda3\\envs\\mediapipe\\lib\\site-packages (from matplotlib!=3.6.1,>=3.1->seaborn) (0.11.0)\n",
      "Requirement already satisfied: fonttools>=4.22.0 in d:\\anaconda3\\envs\\mediapipe\\lib\\site-packages (from matplotlib!=3.6.1,>=3.1->seaborn) (4.39.4)\n",
      "Requirement already satisfied: pytz>=2020.1 in d:\\anaconda3\\envs\\mediapipe\\lib\\site-packages (from pandas>=0.25->seaborn) (2022.7)\n",
      "Requirement already satisfied: tzdata>=2022.1 in d:\\anaconda3\\envs\\mediapipe\\lib\\site-packages (from pandas>=0.25->seaborn) (2023.3)\n",
      "Requirement already satisfied: zipp>=3.1.0 in d:\\anaconda3\\envs\\mediapipe\\lib\\site-packages (from importlib-resources>=3.2.0->matplotlib!=3.6.1,>=3.1->seaborn) (3.11.0)\n",
      "Requirement already satisfied: six>=1.5 in d:\\anaconda3\\envs\\mediapipe\\lib\\site-packages (from python-dateutil>=2.7->matplotlib!=3.6.1,>=3.1->seaborn) (1.16.0)\n"
     ]
    }
   ],
   "source": [
    "!pip install seaborn"
   ]
  },
  {
   "cell_type": "code",
   "execution_count": 1,
   "id": "b4118d16",
   "metadata": {},
   "outputs": [],
   "source": [
    "import numpy as np\n",
    "import pandas as pd\n",
    "\n",
    "CLASSES= [\"Bull\",\"Bear\"]\n",
    "LABEL_BULL= CLASSES.index(\"Bull\")\n",
    "LABEL_BEAR= CLASSES.index(\"Bear\")\n",
    "\n",
    "datasets= np.load(\"datasetsTSLA.npz\")\n",
    "\n",
    "x_train, y_train= datasets[\"x_train\"], datasets[\"y_train\"]\n",
    "x_val, y_val= datasets[\"x_val\"], datasets[\"y_val\"]\n",
    "x_test, y_test= datasets[\"x_test\"], datasets[\"y_test\"]\n",
    "\n",
    "\n",
    "label_distribution = pd.DataFrame([{\"Dataset\": \"train\",\n",
    "                                    \"BULL\": np.count_nonzero(y_train == LABEL_BULL),\n",
    "                                   \"BEAR\": np.count_nonzero(y_train == LABEL_BEAR)},\n",
    "                                  {\"Dataset\": \"val\",\n",
    "                                    \"BULL\": np.count_nonzero(y_val == LABEL_BULL),\n",
    "                                   \"BEAR\": np.count_nonzero(y_val == LABEL_BEAR)},\n",
    "                                   {\"Dataset\": \"test\",\n",
    "                                    \"BULL\": np.count_nonzero(y_test == LABEL_BULL),\n",
    "                                   \"BEAR\": np.count_nonzero(y_test == LABEL_BEAR)}])"
   ]
  },
  {
   "cell_type": "code",
   "execution_count": 2,
   "id": "8e39760a",
   "metadata": {},
   "outputs": [
    {
     "data": {
      "text/html": [
       "<div>\n",
       "<style scoped>\n",
       "    .dataframe tbody tr th:only-of-type {\n",
       "        vertical-align: middle;\n",
       "    }\n",
       "\n",
       "    .dataframe tbody tr th {\n",
       "        vertical-align: top;\n",
       "    }\n",
       "\n",
       "    .dataframe thead th {\n",
       "        text-align: right;\n",
       "    }\n",
       "</style>\n",
       "<table border=\"1\" class=\"dataframe\">\n",
       "  <thead>\n",
       "    <tr style=\"text-align: right;\">\n",
       "      <th></th>\n",
       "      <th>Dataset</th>\n",
       "      <th>BULL</th>\n",
       "      <th>BEAR</th>\n",
       "    </tr>\n",
       "  </thead>\n",
       "  <tbody>\n",
       "    <tr>\n",
       "      <th>0</th>\n",
       "      <td>train</td>\n",
       "      <td>881</td>\n",
       "      <td>809</td>\n",
       "    </tr>\n",
       "    <tr>\n",
       "      <th>1</th>\n",
       "      <td>val</td>\n",
       "      <td>246</td>\n",
       "      <td>237</td>\n",
       "    </tr>\n",
       "    <tr>\n",
       "      <th>2</th>\n",
       "      <td>test</td>\n",
       "      <td>112</td>\n",
       "      <td>112</td>\n",
       "    </tr>\n",
       "  </tbody>\n",
       "</table>\n",
       "</div>"
      ],
      "text/plain": [
       "  Dataset  BULL  BEAR\n",
       "0   train   881   809\n",
       "1     val   246   237\n",
       "2    test   112   112"
      ]
     },
     "execution_count": 2,
     "metadata": {},
     "output_type": "execute_result"
    }
   ],
   "source": [
    "label_distribution"
   ]
  },
  {
   "cell_type": "code",
   "execution_count": 3,
   "id": "1ba401ec",
   "metadata": {},
   "outputs": [],
   "source": [
    "#load model\n",
    "from tensorflow import keras\n",
    "from tensorflow.keras.utils import to_categorical\n",
    "\n",
    "model= keras.models.load_model(\"best_modelTSLA.hdf5\")\n"
   ]
  },
  {
   "cell_type": "code",
   "execution_count": 4,
   "id": "38654b8c",
   "metadata": {},
   "outputs": [
    {
     "name": "stdout",
     "output_type": "stream",
     "text": [
      "7/7 [==============================] - 2s 42ms/step - loss: 0.6993 - accuracy: 0.5402\n"
     ]
    },
    {
     "data": {
      "text/plain": [
       "[0.6992577910423279, 0.5401785969734192]"
      ]
     },
     "execution_count": 4,
     "metadata": {},
     "output_type": "execute_result"
    }
   ],
   "source": [
    "# evaluate model\n",
    "model.evaluate(x_test, to_categorical(y_test))"
   ]
  },
  {
   "cell_type": "code",
   "execution_count": 5,
   "id": "57823f9b",
   "metadata": {},
   "outputs": [
    {
     "name": "stdout",
     "output_type": "stream",
     "text": [
      "7/7 [==============================] - 1s 37ms/step\n"
     ]
    }
   ],
   "source": [
    "# confusion matrix\n",
    "\n",
    "from tensorflow.math import argmax, confusion_matrix\n",
    "\n",
    "y_pred_prob= model.predict(x_test)\n",
    "y_pred= argmax(y_pred_prob, axis=-1)\n",
    "cm= confusion_matrix(y_test, y_pred, num_classes= len(CLASSES)).numpy()"
   ]
  },
  {
   "cell_type": "code",
   "execution_count": 6,
   "id": "c8b3ab77",
   "metadata": {},
   "outputs": [
    {
     "data": {
      "text/plain": [
       "array([[85, 27],\n",
       "       [76, 36]])"
      ]
     },
     "execution_count": 6,
     "metadata": {},
     "output_type": "execute_result"
    }
   ],
   "source": [
    "cm"
   ]
  },
  {
   "cell_type": "code",
   "execution_count": 7,
   "id": "02538075",
   "metadata": {},
   "outputs": [
    {
     "data": {
      "text/plain": [
       "Text(33.22222222222222, 0.5, 'Label')"
      ]
     },
     "execution_count": 7,
     "metadata": {},
     "output_type": "execute_result"
    },
    {
     "data": {
      "image/png": "[encoded data removed]",
      "text/plain": [
       "<Figure size 500x400 with 2 Axes>"
      ]
     },
     "metadata": {},
     "output_type": "display_data"
    }
   ],
   "source": [
    "import matplotlib.pyplot as plt\n",
    "import seaborn as sns\n",
    "\n",
    "plt.figure(figsize= (5,4))\n",
    "sns.heatmap(cm, xticklabels=CLASSES, yticklabels=CLASSES,\n",
    "           annot=True,fmt='g')\n",
    "plt.xlabel(\"Prediction\")\n",
    "plt.ylabel(\"Label\")"
   ]
  },
  {
   "cell_type": "code",
   "execution_count": 8,
   "id": "4874806f",
   "metadata": {},
   "outputs": [
    {
     "data": {
      "text/html": [
       "<div>\n",
       "<style scoped>\n",
       "    .dataframe tbody tr th:only-of-type {\n",
       "        vertical-align: middle;\n",
       "    }\n",
       "\n",
       "    .dataframe tbody tr th {\n",
       "        vertical-align: top;\n",
       "    }\n",
       "\n",
       "    .dataframe thead th {\n",
       "        text-align: right;\n",
       "    }\n",
       "</style>\n",
       "<table border=\"1\" class=\"dataframe\">\n",
       "  <thead>\n",
       "    <tr style=\"text-align: right;\">\n",
       "      <th></th>\n",
       "      <th>Prediction</th>\n",
       "      <th>Accuracy</th>\n",
       "    </tr>\n",
       "  </thead>\n",
       "  <tbody>\n",
       "    <tr>\n",
       "      <th>0</th>\n",
       "      <td>Bull</td>\n",
       "      <td>0.527950</td>\n",
       "    </tr>\n",
       "    <tr>\n",
       "      <th>1</th>\n",
       "      <td>Bear</td>\n",
       "      <td>0.571429</td>\n",
       "    </tr>\n",
       "    <tr>\n",
       "      <th>2</th>\n",
       "      <td>Total</td>\n",
       "      <td>0.540179</td>\n",
       "    </tr>\n",
       "  </tbody>\n",
       "</table>\n",
       "</div>"
      ],
      "text/plain": [
       "  Prediction  Accuracy\n",
       "0       Bull  0.527950\n",
       "1       Bear  0.571429\n",
       "2      Total  0.540179"
      ]
     },
     "execution_count": 8,
     "metadata": {},
     "output_type": "execute_result"
    }
   ],
   "source": [
    "n_bull_pred= cm[LABEL_BULL, LABEL_BULL] + cm[LABEL_BEAR, LABEL_BULL]\n",
    "n_bull_true_pos= cm[LABEL_BULL, LABEL_BULL]\n",
    "bull_accuracy= n_bull_true_pos / n_bull_pred if n_bull_pred > 0 else 0\n",
    "\n",
    "\n",
    "n_bear_pred= cm[LABEL_BULL, LABEL_BEAR] + cm[LABEL_BEAR, LABEL_BEAR]\n",
    "n_bear_true_pos= cm[LABEL_BEAR, LABEL_BEAR]\n",
    "bear_accuracy= n_bear_true_pos / n_bear_pred if n_bear_pred > 0 else 0\n",
    "\n",
    "n_total_pred= n_bull_pred + n_bear_pred\n",
    "n_total_true_pos= n_bull_true_pos + n_bear_true_pos\n",
    "total_accuracy= n_total_true_pos / n_total_pred if n_total_pred > 0 else 0\n",
    "\n",
    "\n",
    "pd.DataFrame([{ \"Prediction\": \"Bull\", \"Accuracy\": bull_accuracy },\n",
    "            { \"Prediction\": \"Bear\", \"Accuracy\": bear_accuracy },\n",
    "             { \"Prediction\": \"Total\", \"Accuracy\": total_accuracy }])"
   ]
  },
  {
   "cell_type": "code",
   "execution_count": null,
   "id": "ff6bb9c3",
   "metadata": {},
   "outputs": [],
   "source": []
  }
 ],
 "metadata": {
  "kernelspec": {
   "display_name": "Python 3 (ipykernel)",
   "language": "python",
   "name": "python3"
  },
  "language_info": {
   "codemirror_mode": {
    "name": "ipython",
    "version": 3
   },
   "file_extension": ".py",
   "mimetype": "text/x-python",
   "name": "python",
   "nbconvert_exporter": "python",
   "pygments_lexer": "ipython3",
   "version": "3.9.18"
  }
 },
 "nbformat": 4,
 "nbformat_minor": 5
}
